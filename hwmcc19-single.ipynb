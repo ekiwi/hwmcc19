{
 "cells": [
  {
   "cell_type": "code",
   "execution_count": null,
   "metadata": {},
   "outputs": [],
   "source": [
    "from parse_logs import find_all_entries"
   ]
  },
  {
   "cell_type": "code",
   "execution_count": null,
   "metadata": {},
   "outputs": [],
   "source": [
    "entries = find_all_entries('hwmcc19-single-logs')"
   ]
  },
  {
   "cell_type": "code",
   "execution_count": null,
   "metadata": {},
   "outputs": [],
   "source": [
    "entries"
   ]
  },
  {
   "cell_type": "code",
   "execution_count": null,
   "metadata": {},
   "outputs": [],
   "source": [
    "def analyze_benchmark(dd):\n",
    "    bb = {\n",
    "        'runtime.min': dd['runtime'].min(),\n",
    "        'runtime.max': dd['runtime'].max(),\n",
    "        'runtime.mean': dd['runtime'].mean(),\n",
    "        'status.ok': int(dd['status'][dd['status'] == 'ok'].count()),\n",
    "        'status.timeout': int(dd['status'][dd['status'] == 'out of time'].count()),\n",
    "    }\n",
    "    \n",
    "    for _, row in dd.iterrows():\n",
    "        solver = row\n",
    "        bb[f\"runtime.{row['solver']}\"] = row['runtime']\n",
    "    \n",
    "    return bb"
   ]
  },
  {
   "cell_type": "code",
   "execution_count": null,
   "metadata": {},
   "outputs": [],
   "source": [
    "bbs = entries.groupby('benchmark')\n",
    "import pandas as pd\n",
    "benchmarks = pd.DataFrame()\n",
    "for name, group in entries.groupby('benchmark'):\n",
    "    bb = analyze_benchmark(group)\n",
    "    bb['benchmark'] = name\n",
    "    benchmarks = benchmarks.append(bb, ignore_index=True)\n"
   ]
  },
  {
   "cell_type": "code",
   "execution_count": null,
   "metadata": {},
   "outputs": [],
   "source": [
    "benchmarks\n",
    "    "
   ]
  },
  {
   "cell_type": "code",
   "execution_count": null,
   "metadata": {},
   "outputs": [],
   "source": [
    "with open('hwmcc19-benchmark-stats.csv', 'w') as ff: benchmarks.to_csv(ff)"
   ]
  },
  {
   "cell_type": "code",
   "execution_count": null,
   "metadata": {},
   "outputs": [],
   "source": []
  },
  {
   "cell_type": "code",
   "execution_count": null,
   "metadata": {},
   "outputs": [],
   "source": []
  }
 ],
 "metadata": {
  "kernelspec": {
   "display_name": "Python 3",
   "language": "python",
   "name": "python3"
  },
  "language_info": {
   "codemirror_mode": {
    "name": "ipython",
    "version": 3
   },
   "file_extension": ".py",
   "mimetype": "text/x-python",
   "name": "python",
   "nbconvert_exporter": "python",
   "pygments_lexer": "ipython3",
   "version": "3.8.3"
  }
 },
 "nbformat": 4,
 "nbformat_minor": 2
}
